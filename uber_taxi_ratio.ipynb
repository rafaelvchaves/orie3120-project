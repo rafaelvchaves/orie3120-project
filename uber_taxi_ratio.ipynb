{
 "cells": [
  {
   "cell_type": "markdown",
   "id": "35475153-34e7-4862-a9d0-fae2bc6741d8",
   "metadata": {},
   "source": [
    "Which regions of New York City have the most potential for gaining market share relative to yellow taxis, so that Uber can offer discounts for rides in those area in order to gain more customers?"
   ]
  },
  {
   "cell_type": "code",
   "execution_count": 1,
   "id": "92f03834-d672-46be-84c2-7ff8da6cb4f3",
   "metadata": {},
   "outputs": [],
   "source": [
    "import numpy as np\n",
    "import pandas as pd\n",
    "import matplotlib.pyplot as plt\n",
    "import numpy as np\n",
    "import matplotlib.transforms as transforms"
   ]
  },
  {
   "cell_type": "code",
   "execution_count": 2,
   "id": "c61e472e-a6ae-4a6c-8741-93e393dcd5f9",
   "metadata": {},
   "outputs": [
    {
     "name": "stderr",
     "output_type": "stream",
     "text": [
      "/Users/charlieruan/opt/anaconda3/envs/general_ml_work/lib/python3.9/site-packages/IPython/core/interactiveshell.py:3457: DtypeWarning: Columns (6) have mixed types.Specify dtype option on import or set low_memory=False.\n",
      "  exec(code_obj, self.user_global_ns, self.user_ns)\n",
      "/Users/charlieruan/opt/anaconda3/envs/general_ml_work/lib/python3.9/site-packages/IPython/core/interactiveshell.py:3457: DtypeWarning: Columns (3) have mixed types.Specify dtype option on import or set low_memory=False.\n",
      "  exec(code_obj, self.user_global_ns, self.user_ns)\n"
     ]
    }
   ],
   "source": [
    "# load the dataframe for each company\n",
    "yellow_taxi_df = pd.read_csv('/Users/charlieruan/projects_data/2022/ORIE3120_project/taxi/yellow_tripdata_2021-07.csv')\n",
    "green_taxi_df = pd.read_csv('/Users/charlieruan/projects_data/2022/ORIE3120_project/taxi/green_tripdata_2021-07.csv')\n",
    "hvhfv_df = pd.read_csv('/Users/charlieruan/projects_data/2022/ORIE3120_project/fhvhv/fhvhv_tripdata_2021-07.csv')\n",
    "dfs = dict()\n",
    "companies = {'juno', 'uber', 'via', 'lyft'}\n",
    "dfs['juno'] = hvhfv_df[hvhfv_df['hvfhs_license_num']=='HV0002']\n",
    "dfs['uber'] = hvhfv_df[hvhfv_df['hvfhs_license_num']=='HV0003']\n",
    "dfs['via'] = hvhfv_df[hvhfv_df['hvfhs_license_num']=='HV0004']\n",
    "dfs['lyft'] = hvhfv_df[hvhfv_df['hvfhs_license_num']=='HV0005']"
   ]
  },
  {
   "cell_type": "code",
   "execution_count": 3,
   "id": "50bf4137-5b42-424e-91a8-fcced3905f2b",
   "metadata": {},
   "outputs": [],
   "source": [
    "# do groupby PU_id for each company\n",
    "count_byPU_dict = dict()\n",
    "total_byPU = pd.Series(np.zeros(265), index=np.arange(1, 266))\n",
    "for comp in companies:\n",
    "    count_byPU_dict[comp] = dfs[comp].groupby('PULocationID')['hvfhs_license_num'].count()\n",
    "    total_byPU = total_byPU.add(count_byPU_dict[comp], fill_value=0)\n",
    "count_byPU_dict['yellow'] = yellow_taxi_df.groupby('PULocationID')['VendorID'].count()\n",
    "count_byPU_dict['green'] = green_taxi_df.groupby('PULocationID')['VendorID'].count()\n",
    "\n",
    "# calculate total trips and uber's market share for each PU_id \n",
    "total_byPU = total_byPU.add(count_byPU_dict['yellow'], fill_value=0)\n",
    "total_byPU = total_byPU.add(count_byPU_dict['green'], fill_value=0)\n",
    "uber_share_byPU = count_byPU_dict['uber'].divide(total_byPU, fill_value=0) "
   ]
  },
  {
   "cell_type": "code",
   "execution_count": 4,
   "id": "523c05f7-a0d4-45b5-a202-ef02eddc083e",
   "metadata": {},
   "outputs": [
    {
     "data": {
      "text/html": [
       "<div>\n",
       "<style scoped>\n",
       "    .dataframe tbody tr th:only-of-type {\n",
       "        vertical-align: middle;\n",
       "    }\n",
       "\n",
       "    .dataframe tbody tr th {\n",
       "        vertical-align: top;\n",
       "    }\n",
       "\n",
       "    .dataframe thead th {\n",
       "        text-align: right;\n",
       "    }\n",
       "</style>\n",
       "<table border=\"1\" class=\"dataframe\">\n",
       "  <thead>\n",
       "    <tr style=\"text-align: right;\">\n",
       "      <th></th>\n",
       "      <th>zoneID</th>\n",
       "      <th>Uber_share</th>\n",
       "      <th>total_trip</th>\n",
       "    </tr>\n",
       "  </thead>\n",
       "  <tbody>\n",
       "    <tr>\n",
       "      <th>102</th>\n",
       "      <td>103</td>\n",
       "      <td>0.000000</td>\n",
       "      <td>0.0</td>\n",
       "    </tr>\n",
       "    <tr>\n",
       "      <th>103</th>\n",
       "      <td>104</td>\n",
       "      <td>0.000000</td>\n",
       "      <td>0.0</td>\n",
       "    </tr>\n",
       "    <tr>\n",
       "      <th>104</th>\n",
       "      <td>105</td>\n",
       "      <td>0.000000</td>\n",
       "      <td>2.0</td>\n",
       "    </tr>\n",
       "    <tr>\n",
       "      <th>198</th>\n",
       "      <td>199</td>\n",
       "      <td>0.000000</td>\n",
       "      <td>3.0</td>\n",
       "    </tr>\n",
       "    <tr>\n",
       "      <th>263</th>\n",
       "      <td>264</td>\n",
       "      <td>0.000000</td>\n",
       "      <td>19335.0</td>\n",
       "    </tr>\n",
       "    <tr>\n",
       "      <th>...</th>\n",
       "      <td>...</td>\n",
       "      <td>...</td>\n",
       "      <td>...</td>\n",
       "    </tr>\n",
       "    <tr>\n",
       "      <th>25</th>\n",
       "      <td>26</td>\n",
       "      <td>0.797853</td>\n",
       "      <td>52828.0</td>\n",
       "    </tr>\n",
       "    <tr>\n",
       "      <th>29</th>\n",
       "      <td>30</td>\n",
       "      <td>0.810857</td>\n",
       "      <td>1179.0</td>\n",
       "    </tr>\n",
       "    <tr>\n",
       "      <th>108</th>\n",
       "      <td>109</td>\n",
       "      <td>0.812698</td>\n",
       "      <td>9482.0</td>\n",
       "    </tr>\n",
       "    <tr>\n",
       "      <th>98</th>\n",
       "      <td>99</td>\n",
       "      <td>0.815710</td>\n",
       "      <td>331.0</td>\n",
       "    </tr>\n",
       "    <tr>\n",
       "      <th>109</th>\n",
       "      <td>110</td>\n",
       "      <td>0.818182</td>\n",
       "      <td>33.0</td>\n",
       "    </tr>\n",
       "  </tbody>\n",
       "</table>\n",
       "<p>265 rows × 3 columns</p>\n",
       "</div>"
      ],
      "text/plain": [
       "     zoneID  Uber_share  total_trip\n",
       "102     103    0.000000         0.0\n",
       "103     104    0.000000         0.0\n",
       "104     105    0.000000         2.0\n",
       "198     199    0.000000         3.0\n",
       "263     264    0.000000     19335.0\n",
       "..      ...         ...         ...\n",
       "25       26    0.797853     52828.0\n",
       "29       30    0.810857      1179.0\n",
       "108     109    0.812698      9482.0\n",
       "98       99    0.815710       331.0\n",
       "109     110    0.818182        33.0\n",
       "\n",
       "[265 rows x 3 columns]"
      ]
     },
     "execution_count": 4,
     "metadata": {},
     "output_type": "execute_result"
    }
   ],
   "source": [
    "# combine everything into a concise df\n",
    "df_insight = uber_share_byPU.to_frame()\n",
    "df_insight.reset_index(inplace=True)\n",
    "df_insight = df_insight.rename(columns = {'index': 'zoneID', 0: 'Uber_share'})\n",
    "\n",
    "df_total = total_byPU.to_frame()\n",
    "df_total.reset_index(inplace=True)\n",
    "df_total = df_total.rename(columns = {'index': 'zoneID', 0: 'total_trip'})\n",
    "\n",
    "df_insight = df_insight.join(df_total.set_index('zoneID'), on='zoneID', how='outer')\n",
    "df_insight = df_insight.fillna(0)\n",
    "df_insight = df_insight.sort_values(by=['Uber_share', 'total_trip'], ascending=True)\n",
    "df_insight"
   ]
  },
  {
   "cell_type": "code",
   "execution_count": 5,
   "id": "be5c34ab-197a-427c-b32e-b37d0ea94838",
   "metadata": {},
   "outputs": [
    {
     "data": {
      "text/html": [
       "<div>\n",
       "<style scoped>\n",
       "    .dataframe tbody tr th:only-of-type {\n",
       "        vertical-align: middle;\n",
       "    }\n",
       "\n",
       "    .dataframe tbody tr th {\n",
       "        vertical-align: top;\n",
       "    }\n",
       "\n",
       "    .dataframe thead th {\n",
       "        text-align: right;\n",
       "    }\n",
       "</style>\n",
       "<table border=\"1\" class=\"dataframe\">\n",
       "  <thead>\n",
       "    <tr style=\"text-align: right;\">\n",
       "      <th></th>\n",
       "      <th>zoneID</th>\n",
       "      <th>Uber_share</th>\n",
       "      <th>total_trip</th>\n",
       "    </tr>\n",
       "  </thead>\n",
       "  <tbody>\n",
       "    <tr>\n",
       "      <th>42</th>\n",
       "      <td>43</td>\n",
       "      <td>0.264070</td>\n",
       "      <td>71837.0</td>\n",
       "    </tr>\n",
       "    <tr>\n",
       "      <th>235</th>\n",
       "      <td>236</td>\n",
       "      <td>0.352055</td>\n",
       "      <td>199094.0</td>\n",
       "    </tr>\n",
       "    <tr>\n",
       "      <th>236</th>\n",
       "      <td>237</td>\n",
       "      <td>0.362614</td>\n",
       "      <td>232186.0</td>\n",
       "    </tr>\n",
       "    <tr>\n",
       "      <th>185</th>\n",
       "      <td>186</td>\n",
       "      <td>0.362901</td>\n",
       "      <td>211008.0</td>\n",
       "    </tr>\n",
       "    <tr>\n",
       "      <th>262</th>\n",
       "      <td>263</td>\n",
       "      <td>0.372989</td>\n",
       "      <td>139039.0</td>\n",
       "    </tr>\n",
       "    <tr>\n",
       "      <th>...</th>\n",
       "      <td>...</td>\n",
       "      <td>...</td>\n",
       "      <td>...</td>\n",
       "    </tr>\n",
       "    <tr>\n",
       "      <th>207</th>\n",
       "      <td>208</td>\n",
       "      <td>0.774161</td>\n",
       "      <td>52037.0</td>\n",
       "    </tr>\n",
       "    <tr>\n",
       "      <th>17</th>\n",
       "      <td>18</td>\n",
       "      <td>0.777267</td>\n",
       "      <td>70883.0</td>\n",
       "    </tr>\n",
       "    <tr>\n",
       "      <th>240</th>\n",
       "      <td>241</td>\n",
       "      <td>0.784359</td>\n",
       "      <td>57322.0</td>\n",
       "    </tr>\n",
       "    <tr>\n",
       "      <th>241</th>\n",
       "      <td>242</td>\n",
       "      <td>0.784930</td>\n",
       "      <td>61036.0</td>\n",
       "    </tr>\n",
       "    <tr>\n",
       "      <th>25</th>\n",
       "      <td>26</td>\n",
       "      <td>0.797853</td>\n",
       "      <td>52828.0</td>\n",
       "    </tr>\n",
       "  </tbody>\n",
       "</table>\n",
       "<p>125 rows × 3 columns</p>\n",
       "</div>"
      ],
      "text/plain": [
       "     zoneID  Uber_share  total_trip\n",
       "42       43    0.264070     71837.0\n",
       "235     236    0.352055    199094.0\n",
       "236     237    0.362614    232186.0\n",
       "185     186    0.362901    211008.0\n",
       "262     263    0.372989    139039.0\n",
       "..      ...         ...         ...\n",
       "207     208    0.774161     52037.0\n",
       "17       18    0.777267     70883.0\n",
       "240     241    0.784359     57322.0\n",
       "241     242    0.784930     61036.0\n",
       "25       26    0.797853     52828.0\n",
       "\n",
       "[125 rows x 3 columns]"
      ]
     },
     "execution_count": 5,
     "metadata": {},
     "output_type": "execute_result"
    }
   ],
   "source": [
    "# We then do filtering data based on the previous dataframe\n",
    "df_insight = df_insight[(df_insight['Uber_share'] >= 0.1) & (df_insight['total_trip'] >= 50000)]\n",
    "df_insight"
   ]
  },
  {
   "cell_type": "code",
   "execution_count": 6,
   "id": "7cbbaa1a-216e-400e-a640-6ca1e6b42951",
   "metadata": {},
   "outputs": [
    {
     "data": {
      "text/plain": [
       "0.618022259035767"
      ]
     },
     "execution_count": 6,
     "metadata": {},
     "output_type": "execute_result"
    }
   ],
   "source": [
    "avg_uber_share = np.average(df_insight['Uber_share'])\n",
    "avg_uber_share"
   ]
  },
  {
   "cell_type": "code",
   "execution_count": 20,
   "id": "2842644c-13aa-4d90-a165-d37dc48bffc0",
   "metadata": {},
   "outputs": [
    {
     "data": {
      "text/plain": [
       "<Figure size 612x612 with 0 Axes>"
      ]
     },
     "metadata": {},
     "output_type": "display_data"
    }
   ],
   "source": [
    "f, ax = plt.subplots(1, figsize=(8.5, 8.5))\n",
    "plt.plot(df_insight['Uber_share'], '.', markersize=12)\n",
    "plt.axhline(y=avg_uber_share, color='r', linestyle='-')\n",
    "ax.axes.xaxis.set_visible(False)\n",
    "ax.set_title('Scatter Plot for Uber Market Share in Regions with over 50000 trips', fontsize=16, fontweight='bold')\n",
    "plt.ylabel('Market Share', fontsize=20)\n",
    "plt.yticks(np.arange(0.3, 0.85, 0.1), fontsize=16)\n",
    "trans = transforms.blended_transform_factory(\n",
    "    ax.get_yticklabels()[0].get_transform(), ax.transData)\n",
    "ax.text(0,avg_uber_share, \"{:.2f}\".format(avg_uber_share), color=\"red\", transform=trans, \n",
    "        ha=\"right\", va=\"center\", fontsize=16)\n",
    "plt.savefig(\"uber_market_share_july.png\", dpi=300)\n",
    "plt.clf()"
   ]
  },
  {
   "cell_type": "markdown",
   "id": "e33b9e6d-5d53-47c9-b5a8-8bf055350ad8",
   "metadata": {},
   "source": [
    "As we can see, we should offer discount in areas like zone 43"
   ]
  },
  {
   "cell_type": "code",
   "execution_count": 8,
   "id": "1da8b3b2-34f4-48bf-863c-2fd01f7725cd",
   "metadata": {},
   "outputs": [
    {
     "data": {
      "text/plain": [
       "{'uber': 18970,\n",
       " 'via': 236,\n",
       " 'juno': 0,\n",
       " 'lyft': 5955,\n",
       " 'yellow': 45440,\n",
       " 'green': 1236}"
      ]
     },
     "execution_count": 8,
     "metadata": {},
     "output_type": "execute_result"
    }
   ],
   "source": [
    "# zone 43 market share\n",
    "rides_num = dict()\n",
    "for comp, cur_ser in count_byPU_dict.items():\n",
    "    if 43 in cur_ser.index:\n",
    "        rides_num[comp] = cur_ser[43]\n",
    "    else:\n",
    "        rides_num[comp] = 0\n",
    "rides_num"
   ]
  },
  {
   "cell_type": "code",
   "execution_count": 9,
   "id": "7021a0ef-0634-40d1-a8ec-fc3e6d9f99e7",
   "metadata": {},
   "outputs": [
    {
     "data": {
      "text/plain": [
       "Text(0.5, 1.0, 'Market Share for Rides Picked Up at Central Park')"
      ]
     },
     "execution_count": 9,
     "metadata": {},
     "output_type": "execute_result"
    },
    {
     "data": {
      "image/png": "[encoded data removed]",
      "text/plain": [
       "<Figure size 720x720 with 1 Axes>"
      ]
     },
     "metadata": {},
     "output_type": "display_data"
    }
   ],
   "source": [
    "# finally we plot the market share pie chart\n",
    "labels = ('Uber', 'Yellow Taxi', 'Green Taxi', 'Lyft', 'Via')\n",
    "sizes = [18970, 45440, 1236, 5955, 236]\n",
    "colors = ['dimgrey', 'gold', 'yellowgreen', 'orchid', 'lightskyblue']\n",
    "explode = (0.1, 0, 0, 0, 0)  # explode 1st slice\n",
    "\n",
    "# Plot\n",
    "f, ax = plt.subplots(1, figsize=(10, 10))\n",
    "plt.pie(sizes, explode=explode, labels=labels, colors=colors, \\\n",
    "        autopct='%1.1f%%', shadow=False, startangle=140, textprops={'fontsize': 20})\n",
    "ax.set_title('Market Share for Rides Picked Up at Central Park', fontsize=25)\n",
    "# plt.savefig(\"uber_market_share_zone43.png\", dpi=300)\n",
    "# plt.clf()"
   ]
  },
  {
   "cell_type": "markdown",
   "id": "1043a3b1-f2c6-4955-a90f-8391db1a3c15",
   "metadata": {},
   "source": [
    "Generate underperforming region in map"
   ]
  },
  {
   "cell_type": "code",
   "execution_count": 63,
   "id": "0ea0064c-e7a7-48ea-b578-8c992519d49e",
   "metadata": {},
   "outputs": [
    {
     "data": {
      "text/html": [
       "<div>\n",
       "<style scoped>\n",
       "    .dataframe tbody tr th:only-of-type {\n",
       "        vertical-align: middle;\n",
       "    }\n",
       "\n",
       "    .dataframe tbody tr th {\n",
       "        vertical-align: top;\n",
       "    }\n",
       "\n",
       "    .dataframe thead th {\n",
       "        text-align: right;\n",
       "    }\n",
       "</style>\n",
       "<table border=\"1\" class=\"dataframe\">\n",
       "  <thead>\n",
       "    <tr style=\"text-align: right;\">\n",
       "      <th></th>\n",
       "      <th>zoneID</th>\n",
       "      <th>Uber_share</th>\n",
       "      <th>total_trip</th>\n",
       "    </tr>\n",
       "  </thead>\n",
       "  <tbody>\n",
       "    <tr>\n",
       "      <th>42</th>\n",
       "      <td>43</td>\n",
       "      <td>0.264070</td>\n",
       "      <td>71837.0</td>\n",
       "    </tr>\n",
       "    <tr>\n",
       "      <th>235</th>\n",
       "      <td>236</td>\n",
       "      <td>0.352055</td>\n",
       "      <td>199094.0</td>\n",
       "    </tr>\n",
       "    <tr>\n",
       "      <th>236</th>\n",
       "      <td>237</td>\n",
       "      <td>0.362614</td>\n",
       "      <td>232186.0</td>\n",
       "    </tr>\n",
       "    <tr>\n",
       "      <th>185</th>\n",
       "      <td>186</td>\n",
       "      <td>0.362901</td>\n",
       "      <td>211008.0</td>\n",
       "    </tr>\n",
       "    <tr>\n",
       "      <th>262</th>\n",
       "      <td>263</td>\n",
       "      <td>0.372989</td>\n",
       "      <td>139039.0</td>\n",
       "    </tr>\n",
       "    <tr>\n",
       "      <th>141</th>\n",
       "      <td>142</td>\n",
       "      <td>0.375487</td>\n",
       "      <td>172155.0</td>\n",
       "    </tr>\n",
       "    <tr>\n",
       "      <th>238</th>\n",
       "      <td>239</td>\n",
       "      <td>0.377843</td>\n",
       "      <td>165378.0</td>\n",
       "    </tr>\n",
       "    <tr>\n",
       "      <th>237</th>\n",
       "      <td>238</td>\n",
       "      <td>0.386270</td>\n",
       "      <td>129179.0</td>\n",
       "    </tr>\n",
       "    <tr>\n",
       "      <th>140</th>\n",
       "      <td>141</td>\n",
       "      <td>0.393297</td>\n",
       "      <td>170581.0</td>\n",
       "    </tr>\n",
       "    <tr>\n",
       "      <th>139</th>\n",
       "      <td>140</td>\n",
       "      <td>0.399364</td>\n",
       "      <td>139592.0</td>\n",
       "    </tr>\n",
       "  </tbody>\n",
       "</table>\n",
       "</div>"
      ],
      "text/plain": [
       "     zoneID  Uber_share  total_trip\n",
       "42       43    0.264070     71837.0\n",
       "235     236    0.352055    199094.0\n",
       "236     237    0.362614    232186.0\n",
       "185     186    0.362901    211008.0\n",
       "262     263    0.372989    139039.0\n",
       "141     142    0.375487    172155.0\n",
       "238     239    0.377843    165378.0\n",
       "237     238    0.386270    129179.0\n",
       "140     141    0.393297    170581.0\n",
       "139     140    0.399364    139592.0"
      ]
     },
     "execution_count": 63,
     "metadata": {},
     "output_type": "execute_result"
    }
   ],
   "source": [
    "df_under = df_insight[df_insight['Uber_share'] <= 0.40]\n",
    "df_under"
   ]
  },
  {
   "cell_type": "markdown",
   "id": "3813b26e-5744-4d5e-a021-0b545cf709d8",
   "metadata": {
    "tags": []
   },
   "source": [
    "## Question 1's graph"
   ]
  },
  {
   "cell_type": "code",
   "execution_count": 46,
   "id": "617312ce-07ec-43d3-bd23-75aaf7ebca0d",
   "metadata": {},
   "outputs": [],
   "source": [
    "data = {'Month':['1','2','3','4','5','6','7'],'Trips':[8704128,8290758,10173376,10238382,10808415,10747390,10704366]}\n",
    "df = pd.DataFrame(data)"
   ]
  },
  {
   "cell_type": "code",
   "execution_count": 57,
   "id": "189e99bc-331b-41a8-8a90-28beea04cacb",
   "metadata": {},
   "outputs": [
    {
     "data": {
      "text/plain": [
       "Text(0.5, 1.0, 'Uber Trips of First seven months in 2021')"
      ]
     },
     "execution_count": 57,
     "metadata": {},
     "output_type": "execute_result"
    },
    {
     "data": {
      "image/png": "[encoded data removed]",
      "text/plain": [
       "<Figure size 432x288 with 1 Axes>"
      ]
     },
     "metadata": {
      "needs_background": "light"
     },
     "output_type": "display_data"
    }
   ],
   "source": [
    "plt.plot(data['Month'],data['Trips'],'.-')\n",
    "plt.xlabel('Month')\n",
    "plt.ylabel('Number of Uber Trips')\n",
    "plt.title('Uber Trips of First seven months in 2021')\n",
    "# plt.savefig('output.png',dpi = 300)\n",
    "# plt.clf()"
   ]
  },
  {
   "cell_type": "code",
   "execution_count": 26,
   "id": "6e5a4c8d-20e2-475c-a91d-0a0015362c9d",
   "metadata": {},
   "outputs": [
    {
     "name": "stdout",
     "output_type": "stream",
     "text": [
      "/Users/charlieruan/projects_data/2022/ORIE3120_project/fhvhv/2020/fhvhv_tripdata_2020-01.csv\n",
      "/Users/charlieruan/projects_data/2022/ORIE3120_project/fhvhv/2020/fhvhv_tripdata_2020-02.csv\n",
      "/Users/charlieruan/projects_data/2022/ORIE3120_project/fhvhv/2020/fhvhv_tripdata_2020-03.csv\n",
      "/Users/charlieruan/projects_data/2022/ORIE3120_project/fhvhv/2020/fhvhv_tripdata_2020-04.csv\n",
      "/Users/charlieruan/projects_data/2022/ORIE3120_project/fhvhv/2020/fhvhv_tripdata_2020-05.csv\n",
      "/Users/charlieruan/projects_data/2022/ORIE3120_project/fhvhv/2020/fhvhv_tripdata_2020-06.csv\n",
      "/Users/charlieruan/projects_data/2022/ORIE3120_project/fhvhv/2020/fhvhv_tripdata_2020-07.csv\n",
      "/Users/charlieruan/projects_data/2022/ORIE3120_project/fhvhv/2020/fhvhv_tripdata_2020-08.csv\n",
      "/Users/charlieruan/projects_data/2022/ORIE3120_project/fhvhv/2020/fhvhv_tripdata_2020-09.csv\n",
      "/Users/charlieruan/projects_data/2022/ORIE3120_project/fhvhv/2020/fhvhv_tripdata_2020-10.csv\n",
      "/Users/charlieruan/projects_data/2022/ORIE3120_project/fhvhv/2020/fhvhv_tripdata_2020-11.csv\n",
      "/Users/charlieruan/projects_data/2022/ORIE3120_project/fhvhv/2020/fhvhv_tripdata_2020-12.csv\n"
     ]
    },
    {
     "data": {
      "text/plain": [
       "[14582477,\n",
       " 15743375,\n",
       " 9836763,\n",
       " 3102835,\n",
       " 4359273,\n",
       " 5110461,\n",
       " 7074343,\n",
       " 7845602,\n",
       " 8834016,\n",
       " 9780191,\n",
       " 8363036,\n",
       " 8479682]"
      ]
     },
     "execution_count": 26,
     "metadata": {},
     "output_type": "execute_result"
    }
   ],
   "source": [
    "len_2020 = []\n",
    "for i in range(1, 13):\n",
    "    app = ''\n",
    "    if i < 10:\n",
    "        app = '0' + str(i)\n",
    "    else:\n",
    "        app = str(i)\n",
    "    add = \"/Users/charlieruan/projects_data/2022/ORIE3120_project/fhvhv/2020/fhvhv_tripdata_2020-\" + app + '.csv'\n",
    "    print(add)\n",
    "    df = pd.read_csv(add)\n",
    "    len_2020.append(len(df[df['hvfhs_license_num']=='HV0003']))\n",
    "    del df\n",
    "len_2020"
   ]
  }
 ],
 "metadata": {
  "kernelspec": {
   "display_name": "Python 3 (ipykernel)",
   "language": "python",
   "name": "python3"
  },
  "language_info": {
   "codemirror_mode": {
    "name": "ipython",
    "version": 3
   },
   "file_extension": ".py",
   "mimetype": "text/x-python",
   "name": "python",
   "nbconvert_exporter": "python",
   "pygments_lexer": "ipython3",
   "version": "3.9.7"
  }
 },
 "nbformat": 4,
 "nbformat_minor": 5
}
